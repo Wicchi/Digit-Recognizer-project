{
 "cells": [
  {
   "cell_type": "markdown",
   "metadata": {},
   "source": [
    "# 1. Question or problem definition."
   ]
  },
  {
   "cell_type": "markdown",
   "metadata": {},
   "source": [
    "In my work, I will use datasets from Kaggle. First of all, let's go to the competition named Digit Recognizer. In this competition, we can find the definition of a task (or problem).\n",
    "\n",
    "@goal is to correctly identify digits from a dataset of tens of thousands of handwritten images.@\n",
    "\n",
    "That is the main problem of titanic competition.\n",
    "\n",
    "So let's start with it.\n",
    "\n",
    "Load packages"
   ]
  },
  {
   "cell_type": "code",
   "execution_count": 9,
   "metadata": {},
   "outputs": [],
   "source": [
    "import pandas as pd\n",
    "import numpy as np\n",
    "import matplotlib.pyplot as plt"
   ]
  },
  {
   "cell_type": "markdown",
   "metadata": {},
   "source": [
    "# Acquire data\n",
    "Load datasets from competition"
   ]
  },
  {
   "cell_type": "code",
   "execution_count": 10,
   "metadata": {},
   "outputs": [],
   "source": [
    "test = pd.read_csv ('test.csv')"
   ]
  },
  {
   "cell_type": "code",
   "execution_count": 11,
   "metadata": {},
   "outputs": [],
   "source": [
    "train = pd.read_csv('train.csv')"
   ]
  },
  {
   "cell_type": "markdown",
   "metadata": {},
   "source": [
    "# Analyze by describing data\n",
    "\n",
    "We know that all data represented by numerical data\n",
    "Since the main goal is to make a prediction model, which will predict the label (what is the number represented by pixels). \n",
    "\n",
    "Let's see a distribution of labels in training datasets. "
   ]
  },
  {
   "cell_type": "code",
   "execution_count": 12,
   "metadata": {},
   "outputs": [
    {
     "name": "stdout",
     "output_type": "stream",
     "text": [
      "Relative frequency of 0 = 9.838 %\n",
      "Relative frequency of 1 = 11.152 %\n",
      "Relative frequency of 2 = 9.945 %\n",
      "Relative frequency of 3 = 10.360 %\n",
      "Relative frequency of 4 = 9.695 %\n",
      "Relative frequency of 5 = 9.036 %\n",
      "Relative frequency of 6 = 9.850 %\n",
      "Relative frequency of 7 = 10.479 %\n",
      "Relative frequency of 8 = 9.674 %\n",
      "Relative frequency of 9 = 9.971 %\n"
     ]
    }
   ],
   "source": [
    "labeled_group = train.groupby('label')\n",
    "\n",
    "total_observation = len(train['label'])\n",
    "for label in range(0,10):\n",
    "    print('Relative frequency of {} = {:.3f} %'.format(label,labeled_group['label'].get_group(label).count()/total_observation*100))"
   ]
  },
  {
   "cell_type": "markdown",
   "metadata": {},
   "source": [
    "As we can see the numbers in training data represented in almost equal parts. \n"
   ]
  },
  {
   "cell_type": "markdown",
   "metadata": {},
   "source": [
    "# Prediction, model, result"
   ]
  },
  {
   "cell_type": "code",
   "execution_count": 13,
   "metadata": {},
   "outputs": [
    {
     "data": {
      "text/plain": [
       "label       0\n",
       "pixel0      0\n",
       "pixel1      0\n",
       "pixel2      0\n",
       "pixel3      0\n",
       "           ..\n",
       "pixel779    0\n",
       "pixel780    0\n",
       "pixel781    0\n",
       "pixel782    0\n",
       "pixel783    0\n",
       "Length: 785, dtype: int64"
      ]
     },
     "execution_count": 13,
     "metadata": {},
     "output_type": "execute_result"
    }
   ],
   "source": [
    "train.isna().sum()"
   ]
  },
  {
   "cell_type": "markdown",
   "metadata": {},
   "source": [
    "That is good in our datasets we don't have any missing or NA values, which helps us to skip the Data mining part of the project."
   ]
  },
  {
   "cell_type": "markdown",
   "metadata": {},
   "source": [
    "### First of all, I divide the train data and test data, into features and prediction variables. In the main goal, I want to predict the label by the pixels, that is why I execute the label from train data and set it to y (prediction). In the test data, we don't have the label variable we have only pixels. "
   ]
  },
  {
   "cell_type": "code",
   "execution_count": 14,
   "metadata": {},
   "outputs": [],
   "source": [
    "from sklearn.model_selection import train_test_split\n",
    "\n",
    "X = train.drop(['label'], axis = 1)\n",
    "y = train['label']\n",
    "\n",
    "X_train, X_test, y_train, y_test = train_test_split(X, y, test_size= 0.2, random_state=42)\n"
   ]
  },
  {
   "cell_type": "markdown",
   "metadata": {},
   "source": [
    "In this project I can use the classification method as SVM and K-nearest neighbors, I will use k-nearest neighbors. I will write circle to take best n - neighbors. "
   ]
  },
  {
   "cell_type": "code",
   "execution_count": 10,
   "metadata": {},
   "outputs": [
    {
     "name": "stdout",
     "output_type": "stream",
     "text": [
      "k 1 completed\n",
      "k 2 completed\n",
      "k 3 completed\n",
      "k 4 completed\n",
      "k 5 completed\n",
      "k 6 completed\n"
     ]
    },
    {
     "data": {
      "text/plain": [
       "Text(0, 0.5, 'Testing accuracy')"
      ]
     },
     "execution_count": 10,
     "metadata": {},
     "output_type": "execute_result"
    },
    {
     "data": {
      "image/png": "[encoded data removed]",
      "text/plain": [
       "<Figure size 432x288 with 1 Axes>"
      ]
     },
     "metadata": {
      "needs_background": "light"
     },
     "output_type": "display_data"
    }
   ],
   "source": [
    "from sklearn.neighbors import KNeighborsClassifier\n",
    "from sklearn.metrics import accuracy_score\n",
    "\n",
    "k_range = range(1,7)\n",
    "scores = []\n",
    "\n",
    "# We are going to use differnt values of K as choose the best one as per accuracy_score\n",
    "for k in k_range:\n",
    "    knn = KNeighborsClassifier(n_neighbors=k)\n",
    "    knn.fit(X_train,y_train)\n",
    "    y_pred = knn.predict(X_test)\n",
    "    scores.append(accuracy_score(y_test,y_pred))\n",
    "    print('k {} completed'.format(k))\n",
    "    \n",
    "\n",
    "# Plotting testing accuracy\n",
    "plt.plot(k_range,scores)\n",
    "plt.xlabel('Value of K')\n",
    "plt.ylabel('Testing accuracy')"
   ]
  },
  {
   "cell_type": "markdown",
   "metadata": {},
   "source": [
    "Based on graps the better case then N = 1, second one is 3, and this is 5. "
   ]
  },
  {
   "cell_type": "code",
   "execution_count": 15,
   "metadata": {},
   "outputs": [],
   "source": [
    "# More efficient way is to process the data in samll batches.\n",
    "from sklearn.neighbors import KNeighborsClassifier\n",
    "from sklearn.metrics import accuracy_score\n",
    "# Model training on entire train data\n",
    "# final prediction for test data\n",
    "knn = KNeighborsClassifier(n_neighbors=3)\n",
    "knn.fit(X,y)\n",
    "y_pred = knn.predict(test)"
   ]
  },
  {
   "cell_type": "code",
   "execution_count": 17,
   "metadata": {},
   "outputs": [],
   "source": [
    "# save submission to csv\n",
    "pd.DataFrame({\"ImageId\": list(range(1,len(test)+1)),\"Label\": y_pred}).to_csv('Digit_recogniser.csv', index=False,header=True)"
   ]
  },
  {
   "cell_type": "markdown",
   "metadata": {},
   "source": [
    "The final Final accuracy = 0.96803, that happened because I work with low size datasets, if we want to have acc ~ 1, need to train on the whole (~74 000) data. "
   ]
  }
 ],
 "metadata": {
  "kernelspec": {
   "display_name": "Python 3",
   "language": "python",
   "name": "python3"
  },
  "language_info": {
   "codemirror_mode": {
    "name": "ipython",
    "version": 3
   },
   "file_extension": ".py",
   "mimetype": "text/x-python",
   "name": "python",
   "nbconvert_exporter": "python",
   "pygments_lexer": "ipython3",
   "version": "3.8.5"
  }
 },
 "nbformat": 4,
 "nbformat_minor": 4
}
